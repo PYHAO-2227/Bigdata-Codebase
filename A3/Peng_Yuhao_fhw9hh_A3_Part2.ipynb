{
 "cells": [
  {
   "cell_type": "markdown",
   "id": "6615a292-32e6-42b4-8dfc-34a09e1d3c3c",
   "metadata": {},
   "source": [
    "# Part 2: MapReduce on Ray"
   ]
  },
  {
   "cell_type": "code",
   "execution_count": 1,
   "id": "457d7293-2fc0-4d46-a1af-408b6b556eca",
   "metadata": {},
   "outputs": [],
   "source": [
    "# Optional pip3 install \n",
    "# !pip3 install ipywidgets"
   ]
  },
  {
   "cell_type": "code",
   "execution_count": 2,
   "id": "0559b749-faa8-4dfd-ae66-2b1303848ed7",
   "metadata": {},
   "outputs": [],
   "source": [
    "# Run this either in your Notebook or your shell.\n",
    "# If you have done so already, skip it.\n",
    "# !bash ./download_gutenberg.sh"
   ]
  },
  {
   "cell_type": "code",
   "execution_count": 3,
   "id": "607e032b-6fce-4378-b0ba-cdfe87cc6073",
   "metadata": {},
   "outputs": [],
   "source": [
    "import ray\n",
    "import time\n",
    "import os"
   ]
  },
  {
   "cell_type": "code",
   "execution_count": 4,
   "id": "074d0641-41fe-4ab2-bf03-35efa33f7043",
   "metadata": {},
   "outputs": [
    {
     "name": "stderr",
     "output_type": "stream",
     "text": [
      "SIGTERM handler is not set because current thread is not the main thread.\n"
     ]
    },
    {
     "data": {
      "application/vnd.jupyter.widget-view+json": {
       "model_id": "5d384c391f734b53945dfc19b8052909",
       "version_major": 2,
       "version_minor": 0
      },
      "text/html": [
       "<div class=\"lm-Widget p-Widget lm-Panel p-Panel jp-Cell-outputWrapper\">\n",
       "    <div style=\"margin-left: 50px;display: flex;flex-direction: row;align-items: center\">\n",
       "        <div class=\"jp-RenderedHTMLCommon\" style=\"display: flex; flex-direction: row;\">\n",
       "  <svg viewBox=\"0 0 567 224\" fill=\"none\" xmlns=\"http://www.w3.org/2000/svg\" style=\"height: 3em;\">\n",
       "    <g clip-path=\"url(#clip0_4338_178347)\">\n",
       "        <path d=\"M341.29 165.561H355.29L330.13 129.051C345.63 123.991 354.21 112.051 354.21 94.2307C354.21 71.3707 338.72 58.1807 311.88 58.1807H271V165.561H283.27V131.661H311.8C314.25 131.661 316.71 131.501 319.01 131.351L341.25 165.561H341.29ZM283.29 119.851V70.0007H311.82C331.3 70.0007 342.34 78.2907 342.34 94.5507C342.34 111.271 331.34 119.861 311.82 119.861L283.29 119.851ZM451.4 138.411L463.4 165.561H476.74L428.74 58.1807H416L367.83 165.561H380.83L392.83 138.411H451.4ZM446.19 126.601H398L422 72.1407L446.24 126.601H446.19ZM526.11 128.741L566.91 58.1807H554.35L519.99 114.181L485.17 58.1807H472.44L514.01 129.181V165.541H526.13V128.741H526.11Z\" fill=\"var(--jp-ui-font-color0)\"/>\n",
       "        <path d=\"M82.35 104.44C84.0187 97.8827 87.8248 92.0678 93.1671 87.9146C98.5094 83.7614 105.083 81.5067 111.85 81.5067C118.617 81.5067 125.191 83.7614 130.533 87.9146C135.875 92.0678 139.681 97.8827 141.35 104.44H163.75C164.476 101.562 165.622 98.8057 167.15 96.2605L127.45 56.5605C121.071 60.3522 113.526 61.6823 106.235 60.3005C98.9443 58.9187 92.4094 54.9203 87.8602 49.0574C83.3109 43.1946 81.0609 35.8714 81.5332 28.4656C82.0056 21.0599 85.1679 14.0819 90.4252 8.8446C95.6824 3.60726 102.672 0.471508 110.08 0.0272655C117.487 -0.416977 124.802 1.86091 130.647 6.4324C136.493 11.0039 140.467 17.5539 141.821 24.8501C143.175 32.1463 141.816 39.6859 138 46.0505L177.69 85.7505C182.31 82.9877 187.58 81.4995 192.962 81.4375C198.345 81.3755 203.648 82.742 208.33 85.3976C213.012 88.0532 216.907 91.9029 219.616 96.5544C222.326 101.206 223.753 106.492 223.753 111.875C223.753 117.258 222.326 122.545 219.616 127.197C216.907 131.848 213.012 135.698 208.33 138.353C203.648 141.009 198.345 142.375 192.962 142.313C187.58 142.251 182.31 140.763 177.69 138L138 177.7C141.808 184.071 143.155 191.614 141.79 198.91C140.424 206.205 136.44 212.75 130.585 217.313C124.731 221.875 117.412 224.141 110.004 223.683C102.596 223.226 95.6103 220.077 90.3621 214.828C85.1139 209.58 81.9647 202.595 81.5072 195.187C81.0497 187.779 83.3154 180.459 87.878 174.605C92.4405 168.751 98.9853 164.766 106.281 163.401C113.576 162.035 121.119 163.383 127.49 167.19L167.19 127.49C165.664 124.941 164.518 122.182 163.79 119.3H141.39C139.721 125.858 135.915 131.673 130.573 135.826C125.231 139.98 118.657 142.234 111.89 142.234C105.123 142.234 98.5494 139.98 93.2071 135.826C87.8648 131.673 84.0587 125.858 82.39 119.3H60C58.1878 126.495 53.8086 132.78 47.6863 136.971C41.5641 141.163 34.1211 142.972 26.7579 142.059C19.3947 141.146 12.6191 137.574 7.70605 132.014C2.79302 126.454 0.0813599 119.29 0.0813599 111.87C0.0813599 104.451 2.79302 97.2871 7.70605 91.7272C12.6191 86.1673 19.3947 82.5947 26.7579 81.6817C34.1211 80.7686 41.5641 82.5781 47.6863 86.7696C53.8086 90.9611 58.1878 97.2456 60 104.44H82.35ZM100.86 204.32C103.407 206.868 106.759 208.453 110.345 208.806C113.93 209.159 117.527 208.258 120.522 206.256C123.517 204.254 125.725 201.276 126.771 197.828C127.816 194.38 127.633 190.677 126.253 187.349C124.874 184.021 122.383 181.274 119.205 179.577C116.027 177.88 112.359 177.337 108.826 178.042C105.293 178.746 102.113 180.654 99.8291 183.44C97.5451 186.226 96.2979 189.718 96.3 193.32C96.2985 195.364 96.7006 197.388 97.4831 199.275C98.2656 201.163 99.4132 202.877 100.86 204.32ZM204.32 122.88C206.868 120.333 208.453 116.981 208.806 113.396C209.159 109.811 208.258 106.214 206.256 103.219C204.254 100.223 201.275 98.0151 197.827 96.97C194.38 95.9249 190.676 96.1077 187.348 97.4873C184.02 98.8669 181.274 101.358 179.577 104.536C177.879 107.714 177.337 111.382 178.041 114.915C178.746 118.448 180.653 121.627 183.439 123.911C186.226 126.195 189.717 127.443 193.32 127.44C195.364 127.443 197.388 127.042 199.275 126.259C201.163 125.476 202.878 124.328 204.32 122.88ZM122.88 19.4205C120.333 16.8729 116.981 15.2876 113.395 14.9347C109.81 14.5817 106.213 15.483 103.218 17.4849C100.223 19.4868 98.0146 22.4654 96.9696 25.9131C95.9245 29.3608 96.1073 33.0642 97.4869 36.3922C98.8665 39.7202 101.358 42.4668 104.535 44.1639C107.713 45.861 111.381 46.4036 114.914 45.6992C118.447 44.9949 121.627 43.0871 123.911 40.301C126.195 37.515 127.442 34.0231 127.44 30.4205C127.44 28.3772 127.038 26.3539 126.255 24.4664C125.473 22.5788 124.326 20.8642 122.88 19.4205ZM19.42 100.86C16.8725 103.408 15.2872 106.76 14.9342 110.345C14.5813 113.93 15.4826 117.527 17.4844 120.522C19.4863 123.518 22.4649 125.726 25.9127 126.771C29.3604 127.816 33.0638 127.633 36.3918 126.254C39.7198 124.874 42.4664 122.383 44.1635 119.205C45.8606 116.027 46.4032 112.359 45.6988 108.826C44.9944 105.293 43.0866 102.114 40.3006 99.8296C37.5145 97.5455 34.0227 96.2983 30.42 96.3005C26.2938 96.3018 22.337 97.9421 19.42 100.86ZM100.86 100.86C98.3125 103.408 96.7272 106.76 96.3742 110.345C96.0213 113.93 96.9226 117.527 98.9244 120.522C100.926 123.518 103.905 125.726 107.353 126.771C110.8 127.816 114.504 127.633 117.832 126.254C121.16 124.874 123.906 122.383 125.604 119.205C127.301 116.027 127.843 112.359 127.139 108.826C126.434 105.293 124.527 102.114 121.741 99.8296C118.955 97.5455 115.463 96.2983 111.86 96.3005C109.817 96.299 107.793 96.701 105.905 97.4835C104.018 98.2661 102.303 99.4136 100.86 100.86Z\" fill=\"#00AEEF\"/>\n",
       "    </g>\n",
       "    <defs>\n",
       "        <clipPath id=\"clip0_4338_178347\">\n",
       "            <rect width=\"566.93\" height=\"223.75\" fill=\"white\"/>\n",
       "        </clipPath>\n",
       "    </defs>\n",
       "  </svg>\n",
       "</div>\n",
       "\n",
       "        <table class=\"jp-RenderedHTMLCommon\" style=\"border-collapse: collapse;color: var(--jp-ui-font-color1);font-size: var(--jp-ui-font-size1);\">\n",
       "    <tr>\n",
       "        <td style=\"text-align: left\"><b>Python version:</b></td>\n",
       "        <td style=\"text-align: left\"><b>3.10.12</b></td>\n",
       "    </tr>\n",
       "    <tr>\n",
       "        <td style=\"text-align: left\"><b>Ray version:</b></td>\n",
       "        <td style=\"text-align: left\"><b>2.9.3</b></td>\n",
       "    </tr>\n",
       "    <tr>\n",
       "    <td style=\"text-align: left\"><b>Dashboard:</b></td>\n",
       "    <td style=\"text-align: left\"><b><a href=\"http://127.0.0.1:8265\" target=\"_blank\">http://127.0.0.1:8265</a></b></td>\n",
       "</tr>\n",
       "\n",
       "</table>\n",
       "\n",
       "    </div>\n",
       "</div>\n"
      ],
      "text/plain": [
       "ClientContext(dashboard_url='127.0.0.1:8265', python_version='3.10.12', ray_version='2.9.3', ray_commit='62655e11ed76509b78654b60be67bc59f8f3460a', protocol_version='2023-06-27', _num_clients=1, _context_to_restore=<ray.util.client._ClientContext object at 0x7fe39549bb80>)"
      ]
     },
     "execution_count": 4,
     "metadata": {},
     "output_type": "execute_result"
    }
   ],
   "source": [
    "ray.init(address=\"ray://172.31.2.53:10001\")"
   ]
  },
  {
   "cell_type": "code",
   "execution_count": 5,
   "id": "e147acb6-bde6-4b6f-8b31-4f6fb1606c4e",
   "metadata": {},
   "outputs": [
    {
     "name": "stdout",
     "output_type": "stream",
     "text": [
      "This cluster consists of\n",
      "    5 nodes in total\n",
      "    10.0 CPU resources in total\n",
      "    25.069031909108162 Memory resources in total\n",
      "    11.055059049278498 Object store memory resources in total\n",
      "    \n"
     ]
    }
   ],
   "source": [
    "print('''This cluster consists of\n",
    "    {} nodes in total\n",
    "    {} CPU resources in total\n",
    "    {} Memory resources in total\n",
    "    {} Object store memory resources in total\n",
    "    '''.format(len(ray.nodes()), ray.cluster_resources()['CPU'], \n",
    "           ray.cluster_resources()['memory'] / (1024*1024*1024), \n",
    "           ray.cluster_resources()['object_store_memory'] / (1024*1024*1024)))"
   ]
  },
  {
   "cell_type": "code",
   "execution_count": 6,
   "id": "c2fde07a-8cb0-4fa1-a253-98384b3c8497",
   "metadata": {},
   "outputs": [
    {
     "name": "stdout",
     "output_type": "stream",
     "text": [
      "Tasks executed\n",
      "    14 tasks on 172.31.12.93\n",
      "    664 tasks on 172.31.13.109\n",
      "    321 tasks on 172.31.1.0\n",
      "    1 tasks on 172.31.2.53\n",
      "CPU times: user 422 ms, sys: 92 ms, total: 514 ms\n",
      "Wall time: 2.62 s\n"
     ]
    }
   ],
   "source": [
    "%%time\n",
    "\n",
    "'''\n",
    "(Optional testing code) \n",
    "Test your Ray cluster, see the outputs to check if all nodes are ready to work\n",
    "the output should be like \"123 tasks on 1.2.3.4\".\n",
    "By default, you have 5 nodes to execute remote tasks.\n",
    "'''\n",
    "import socket\n",
    "from collections import Counter\n",
    "\n",
    "@ray.remote\n",
    "def f():\n",
    "    time.sleep(0.001)\n",
    "    # Return IP address.\n",
    "    return socket.gethostbyname(socket.gethostname())\n",
    "\n",
    "object_ids = [f.remote() for _ in range(1000)]\n",
    "ip_addresses = ray.get(object_ids)\n",
    "\n",
    "print('Tasks executed')\n",
    "for ip_address, num_tasks in Counter(ip_addresses).items():\n",
    "    print('    {} tasks on {}'.format(num_tasks, ip_address))"
   ]
  },
  {
   "cell_type": "code",
   "execution_count": 7,
   "id": "8cdd612c-e929-48f0-b48d-0ba293f04f40",
   "metadata": {},
   "outputs": [
    {
     "name": "stdout",
     "output_type": "stream",
     "text": [
      "CPU times: user 8.69 s, sys: 631 ms, total: 9.32 s\n",
      "Wall time: 9.36 s\n"
     ]
    }
   ],
   "source": [
    "%%time\n",
    "\n",
    "# You should have a mr_txt folder created after running download_gutenberg.sh. \n",
    "# Go ahead read the files into a list.\n",
    "# Do not modify this cell.\n",
    "corpus = []\n",
    "for file_name in os.listdir('mr_txt'):\n",
    "    file_path = os.path.join('mr_txt', file_name)\n",
    "    f_txt = open(file_path,'r')\n",
    "    content = f_txt.read()\n",
    "    filtered_content = ''.join([char if char.isalpha() or char.isspace() or char == \"'\" else ' ' for char in content])\n",
    "    corpus.extend(filtered_content.split())\n",
    "\n",
    "f_txt.close()"
   ]
  },
  {
   "cell_type": "code",
   "execution_count": 8,
   "id": "f7d52fff-2f71-454b-9401-b41d791bbcc3",
   "metadata": {},
   "outputs": [],
   "source": [
    "'''\n",
    "Default num_map_tasks = 8 and num_reduce_tasks = 4\n",
    "TODO: Try modifying the number of map tasks and the number of reduce tasks to see how that affect performance\n",
    "'''\n",
    "# The input data is initially partitioned into N buckets where N = num_map_tasks.\n",
    "num_map_tasks = 8\n",
    "num_reduce_tasks = 4\n",
    "\n",
    "chunk = len(corpus) // num_map_tasks\n",
    "input_buckets = [\n",
    "    corpus[i * chunk: (i + 1) * chunk] if i < num_map_tasks - 1 else corpus[i * chunk:]\n",
    "    for i in range(num_map_tasks)\n",
    "]"
   ]
  },
  {
   "cell_type": "code",
   "execution_count": 9,
   "id": "6bd58562-2f91-459f-944b-9b3cde7c6130",
   "metadata": {},
   "outputs": [],
   "source": [
    "'''\n",
    "TODO: Task 1: Implement the map task with ray.remote() decorator\n",
    "'''\n",
    "@ray.remote\n",
    "def do_map_task(map_input, num_reduce_tasks = 4): # by default num_reduce_tasks = 4\n",
    "    \"\"\"\n",
    "    Launches a map task on the given 'map_input' and divide the keys into buckets for \n",
    "        'num_reduce_tasks' reduce tasks, where 'num_reduce_tasks' is the number of reduce tasks.\n",
    "    Steps:\n",
    "    1. Initialize an empty list named intermediate_results with a length equal to num_reduce_tasks.\n",
    "    2. Call the map_function on the map_input bucket to emit a list of key-value (KV) pairs.\n",
    "    3. Calculate which reduce task a KV pair should go to and append the KV pair to the corresponding\n",
    "        intermediate results buckets. To do so:\n",
    "        Iterate through each entry in the KV pair list and hash partition (with hash(key)) \n",
    "        the KV pairs across M reduce tasks using the modulo (%) operation where M = 'num_reduce_tasks'. \n",
    "    4. Return a list of intermediate result buckets. \n",
    "\n",
    "    Parameters:\n",
    "    - map_input (list): The input data to be mapped.\n",
    "    - num_reducers (int): The number of buckets to divide the 'map_input' into (default is 4).\n",
    "\n",
    "    Returns:\n",
    "    - intermediate_results (list): A list of intermediate results buckets.\n",
    "    \"\"\"\n",
    "    emitted_kv_pairs = map_function(map_input)\n",
    "    intermediate_results = [list() for _ in range(num_reduce_tasks)]\n",
    "    # TODO: start your implementation below this line\n",
    "    for key, value in emitted_kv_pairs:\n",
    "        # Determine the reduce task for this KV pair\n",
    "        reduce_task_index = hash(key) % num_reduce_tasks\n",
    "        # Append the KV pair to the corresponding bucket\n",
    "        intermediate_results[reduce_task_index].append((key, value))\n",
    "    # Do not modify the statement below        \n",
    "    return intermediate_results"
   ]
  },
  {
   "cell_type": "code",
   "execution_count": 10,
   "id": "aeacbbbc-3bea-40d8-ba20-be310a312a67",
   "metadata": {},
   "outputs": [],
   "source": [
    "'''\n",
    "TODO: Task 2: Implement the map function\n",
    "'''\n",
    "def map_function(map_input):\n",
    "    \"\"\"\n",
    "    Converts a 'map_input' into a list of key-value pairs, where the key is the word and the \n",
    "        value is set to 1.\n",
    "    Steps:\n",
    "        1. Create an empty list named kvs to store key-value pairs.\n",
    "        2. Iterate through each word in the input and create a (word, 1) tuple and append it to the kvs list \n",
    "            (IMPORTANT: the 'word' emitted should be in **lowercase** so that the same words, regardless of their \n",
    "            original case, can be combined).\n",
    "        3. After processing all words, return the kvs list as the result.\n",
    "\n",
    "    Parameters:\n",
    "    - map_input (list): List of words representing a partition of the entire document txts.\n",
    "\n",
    "    Returns:\n",
    "    - list: A list of key-value pairs generated from the input document.\n",
    "    \"\"\"\n",
    "\n",
    "    kv_list = list()\n",
    "    # TODO: start your implementation below this line\n",
    "    for word in map_input:\n",
    "        # Convert word to lowercase and create a (word, 1) tuple\n",
    "        word_kv = (word.lower(), 1)\n",
    "        # Append the tuple to the kv_list\n",
    "        kv_list.append(word_kv)\n",
    "    # Do not modify the statement below\n",
    "    return kv_list"
   ]
  },
  {
   "cell_type": "code",
   "execution_count": 40,
   "id": "bee52fc0-c19b-4e09-839f-748c925139eb",
   "metadata": {},
   "outputs": [],
   "source": [
    "'''\n",
    "TODO: Task 3: Implement the reduce task with ray.remote() decorator\n",
    "'''\n",
    "@ray.remote\n",
    "def do_reduce_task(*my_intermediate_results):\n",
    "    \"\"\"\n",
    "    Launches a reduce task on a list of 'my_intermediate_results' buckets assigned to this reducer.\n",
    "    Steps:\n",
    "        1. Iterate over each bucket in the argument and append the KV pair to a dict. To do so:\n",
    "            Iterate over each KV pair in the bucket, and append the value ('1') to its corresponding key (a word) in \n",
    "            the dict.\n",
    "        2. Iterate over each item in the dict and calculate the word count (i.e., number of '1's) for each key by calling\n",
    "            reduce_function() that you will implement for Task 4, then assign the word count to the corresponding entry in\n",
    "            partial_output (which is another dict).\n",
    "\n",
    "    Parameters:\n",
    "    - *my_intermediate_results: A list of 'num_map_tasks' intermediate results buckets containing '(word, 1)'\n",
    "        KV pairs, where 'num_map_tasks' is the number of map tasks. \n",
    "\n",
    "    Returns:\n",
    "    - partial_output (dict): A dict that holds the result of this reduce task, using the word as the key and its count \n",
    "        as the value.\n",
    "    \"\"\"\n",
    "\n",
    "    partial_output = dict()\n",
    "    # TODO: start your implementation below this line\n",
    "    kv_dict = dict()\n",
    "    for bucket in my_intermediate_results:\n",
    "        for key, value in bucket:\n",
    "            if key in kv_dict:\n",
    "                kv_dict[key].append(value)\n",
    "            else:\n",
    "                kv_dict[key] = [value]\n",
    "    for key, val in kv_dict.items():\n",
    "        count = reduce_function(val)\n",
    "        partial_output[key] = count\n",
    "    # Do not modify the statement below          \n",
    "    return partial_output"
   ]
  },
  {
   "cell_type": "code",
   "execution_count": 41,
   "id": "73e76008-09a4-48bb-a981-044889b487ed",
   "metadata": {},
   "outputs": [],
   "source": [
    "'''\n",
    "TODO: Task 4: Implement the reduce function\n",
    "'''\n",
    "def reduce_function(val):\n",
    "    \"\"\"\n",
    "    Simply return the number of '1's in val\n",
    "\n",
    "    Parameters:\n",
    "    - val: A list of '1's.\n",
    "\n",
    "    Returns:\n",
    "    - count: number of '1's in val\n",
    "\n",
    "    \"\"\"\n",
    "\n",
    "    count = 0\n",
    "    # TODO: Start your implementation below this line\n",
    "    count = sum(val)\n",
    "    # Do not modify the statement below\n",
    "    return count"
   ]
  },
  {
   "cell_type": "code",
   "execution_count": null,
   "id": "ec890065-0ed2-49c6-b6d8-89d2f4dfca84",
   "metadata": {},
   "outputs": [],
   "source": [
    "'''\n",
    "Driver code to launch the entire MapReduce WordCount job.\n",
    "It will first execute the map phase, then the reduce phase.\n",
    "While this cell is running, you should keep an eye on the Ray dashboard to monitor the task execution progress.\n",
    "'''\n",
    "\n",
    "# Driver code to launch remote map tasks on the Ray cluster.\n",
    "# Do not modify this cell! \n",
    "intermediate_results = [\n",
    "    do_map_task.options(num_returns = num_reduce_tasks) # each do_map_task should return a list of results\n",
    "    .remote(input_bucket, num_reduce_tasks) # each remote task takes in two arguments: input_bucket and num_reducers\n",
    "    for input_bucket in input_buckets\n",
    "]\n",
    "\n",
    "# Driver code to launch remote reduce tasks on the Ray cluster.\n",
    "# Do not modify this cell!\n",
    "merged_partial_results = []\n",
    "for reducer_idx in range(num_reduce_tasks):\n",
    "    merged_partial_results.append(\n",
    "        do_reduce_task.remote(*[map_output[reducer_idx] for map_output in intermediate_results])\n",
    "    )"
   ]
  },
  {
   "cell_type": "code",
   "execution_count": 37,
   "id": "a445f9cf-ebe2-400f-9575-3a234b5d1d99",
   "metadata": {},
   "outputs": [],
   "source": [
    "#intermediate_results"
   ]
  },
  {
   "cell_type": "code",
   "execution_count": 38,
   "id": "68a4b3f0-4687-418a-b3c6-17caa1275c04",
   "metadata": {},
   "outputs": [],
   "source": [
    "#merged_partial_results"
   ]
  },
  {
   "cell_type": "code",
   "execution_count": 39,
   "id": "ba561749-dc46-4951-8f33-f05e770aef01",
   "metadata": {},
   "outputs": [
    {
     "ename": "RayTaskError(TypeError)",
     "evalue": "\u001b[36mray::do_reduce_task()\u001b[39m (pid=1177, ip=172.31.12.93)\n  File \"/tmp/ipykernel_1465/1033647018.py\", line 32, in do_reduce_task\n  File \"/tmp/ipykernel_1465/3088041794.py\", line 18, in reduce_function\nTypeError: 'int' object is not iterable",
     "output_type": "error",
     "traceback": [
      "\u001b[0;31m---------------------------------------------------------------------------\u001b[0m",
      "\u001b[0;31mRayTaskError(TypeError)\u001b[0m                   Traceback (most recent call last)",
      "Cell \u001b[0;32mIn[39], line 6\u001b[0m\n\u001b[1;32m      4\u001b[0m wc \u001b[38;5;241m=\u001b[39m \u001b[38;5;28mdict\u001b[39m()\n\u001b[1;32m      5\u001b[0m wc_sorted \u001b[38;5;241m=\u001b[39m []\n\u001b[0;32m----> 6\u001b[0m \u001b[38;5;28;01mfor\u001b[39;00m res \u001b[38;5;129;01min\u001b[39;00m \u001b[43mray\u001b[49m\u001b[38;5;241;43m.\u001b[39;49m\u001b[43mget\u001b[49m\u001b[43m(\u001b[49m\u001b[43mmerged_partial_results\u001b[49m\u001b[43m)\u001b[49m:\n\u001b[1;32m      7\u001b[0m     \u001b[38;5;28;01mfor\u001b[39;00m key, val \u001b[38;5;129;01min\u001b[39;00m res\u001b[38;5;241m.\u001b[39mitems():\n\u001b[1;32m      8\u001b[0m         \u001b[38;5;28;01mif\u001b[39;00m key \u001b[38;5;129;01mnot\u001b[39;00m \u001b[38;5;129;01min\u001b[39;00m wc:\n",
      "File \u001b[0;32m~/.local/lib/python3.10/site-packages/ray/_private/auto_init_hook.py:22\u001b[0m, in \u001b[0;36mwrap_auto_init.<locals>.auto_init_wrapper\u001b[0;34m(*args, **kwargs)\u001b[0m\n\u001b[1;32m     19\u001b[0m \u001b[38;5;129m@wraps\u001b[39m(fn)\n\u001b[1;32m     20\u001b[0m \u001b[38;5;28;01mdef\u001b[39;00m \u001b[38;5;21mauto_init_wrapper\u001b[39m(\u001b[38;5;241m*\u001b[39margs, \u001b[38;5;241m*\u001b[39m\u001b[38;5;241m*\u001b[39mkwargs):\n\u001b[1;32m     21\u001b[0m     auto_init_ray()\n\u001b[0;32m---> 22\u001b[0m     \u001b[38;5;28;01mreturn\u001b[39;00m \u001b[43mfn\u001b[49m\u001b[43m(\u001b[49m\u001b[38;5;241;43m*\u001b[39;49m\u001b[43margs\u001b[49m\u001b[43m,\u001b[49m\u001b[43m \u001b[49m\u001b[38;5;241;43m*\u001b[39;49m\u001b[38;5;241;43m*\u001b[39;49m\u001b[43mkwargs\u001b[49m\u001b[43m)\u001b[49m\n",
      "File \u001b[0;32m~/.local/lib/python3.10/site-packages/ray/_private/client_mode_hook.py:102\u001b[0m, in \u001b[0;36mclient_mode_hook.<locals>.wrapper\u001b[0;34m(*args, **kwargs)\u001b[0m\n\u001b[1;32m     98\u001b[0m \u001b[38;5;28;01mif\u001b[39;00m client_mode_should_convert():\n\u001b[1;32m     99\u001b[0m     \u001b[38;5;66;03m# Legacy code\u001b[39;00m\n\u001b[1;32m    100\u001b[0m     \u001b[38;5;66;03m# we only convert init function if RAY_CLIENT_MODE=1\u001b[39;00m\n\u001b[1;32m    101\u001b[0m     \u001b[38;5;28;01mif\u001b[39;00m func\u001b[38;5;241m.\u001b[39m\u001b[38;5;18m__name__\u001b[39m \u001b[38;5;241m!=\u001b[39m \u001b[38;5;124m\"\u001b[39m\u001b[38;5;124minit\u001b[39m\u001b[38;5;124m\"\u001b[39m \u001b[38;5;129;01mor\u001b[39;00m is_client_mode_enabled_by_default:\n\u001b[0;32m--> 102\u001b[0m         \u001b[38;5;28;01mreturn\u001b[39;00m \u001b[38;5;28;43mgetattr\u001b[39;49m\u001b[43m(\u001b[49m\u001b[43mray\u001b[49m\u001b[43m,\u001b[49m\u001b[43m \u001b[49m\u001b[43mfunc\u001b[49m\u001b[38;5;241;43m.\u001b[39;49m\u001b[38;5;18;43m__name__\u001b[39;49m\u001b[43m)\u001b[49m\u001b[43m(\u001b[49m\u001b[38;5;241;43m*\u001b[39;49m\u001b[43margs\u001b[49m\u001b[43m,\u001b[49m\u001b[43m \u001b[49m\u001b[38;5;241;43m*\u001b[39;49m\u001b[38;5;241;43m*\u001b[39;49m\u001b[43mkwargs\u001b[49m\u001b[43m)\u001b[49m\n\u001b[1;32m    103\u001b[0m \u001b[38;5;28;01mreturn\u001b[39;00m func(\u001b[38;5;241m*\u001b[39margs, \u001b[38;5;241m*\u001b[39m\u001b[38;5;241m*\u001b[39mkwargs)\n",
      "File \u001b[0;32m~/.local/lib/python3.10/site-packages/ray/util/client/api.py:42\u001b[0m, in \u001b[0;36m_ClientAPI.get\u001b[0;34m(self, vals, timeout)\u001b[0m\n\u001b[1;32m     35\u001b[0m \u001b[38;5;28;01mdef\u001b[39;00m \u001b[38;5;21mget\u001b[39m(\u001b[38;5;28mself\u001b[39m, vals, \u001b[38;5;241m*\u001b[39m, timeout\u001b[38;5;241m=\u001b[39m\u001b[38;5;28;01mNone\u001b[39;00m):\n\u001b[1;32m     36\u001b[0m \u001b[38;5;250m    \u001b[39m\u001b[38;5;124;03m\"\"\"get is the hook stub passed on to replace `ray.get`\u001b[39;00m\n\u001b[1;32m     37\u001b[0m \n\u001b[1;32m     38\u001b[0m \u001b[38;5;124;03m    Args:\u001b[39;00m\n\u001b[1;32m     39\u001b[0m \u001b[38;5;124;03m        vals: [Client]ObjectRef or list of these refs to retrieve.\u001b[39;00m\n\u001b[1;32m     40\u001b[0m \u001b[38;5;124;03m        timeout: Optional timeout in milliseconds\u001b[39;00m\n\u001b[1;32m     41\u001b[0m \u001b[38;5;124;03m    \"\"\"\u001b[39;00m\n\u001b[0;32m---> 42\u001b[0m     \u001b[38;5;28;01mreturn\u001b[39;00m \u001b[38;5;28;43mself\u001b[39;49m\u001b[38;5;241;43m.\u001b[39;49m\u001b[43mworker\u001b[49m\u001b[38;5;241;43m.\u001b[39;49m\u001b[43mget\u001b[49m\u001b[43m(\u001b[49m\u001b[43mvals\u001b[49m\u001b[43m,\u001b[49m\u001b[43m \u001b[49m\u001b[43mtimeout\u001b[49m\u001b[38;5;241;43m=\u001b[39;49m\u001b[43mtimeout\u001b[49m\u001b[43m)\u001b[49m\n",
      "File \u001b[0;32m~/.local/lib/python3.10/site-packages/ray/util/client/worker.py:434\u001b[0m, in \u001b[0;36mWorker.get\u001b[0;34m(self, vals, timeout)\u001b[0m\n\u001b[1;32m    432\u001b[0m     op_timeout \u001b[38;5;241m=\u001b[39m max_blocking_operation_time\n\u001b[1;32m    433\u001b[0m \u001b[38;5;28;01mtry\u001b[39;00m:\n\u001b[0;32m--> 434\u001b[0m     res \u001b[38;5;241m=\u001b[39m \u001b[38;5;28;43mself\u001b[39;49m\u001b[38;5;241;43m.\u001b[39;49m\u001b[43m_get\u001b[49m\u001b[43m(\u001b[49m\u001b[43mto_get\u001b[49m\u001b[43m,\u001b[49m\u001b[43m \u001b[49m\u001b[43mop_timeout\u001b[49m\u001b[43m)\u001b[49m\n\u001b[1;32m    435\u001b[0m     \u001b[38;5;28;01mbreak\u001b[39;00m\n\u001b[1;32m    436\u001b[0m \u001b[38;5;28;01mexcept\u001b[39;00m GetTimeoutError:\n",
      "File \u001b[0;32m~/.local/lib/python3.10/site-packages/ray/util/client/worker.py:462\u001b[0m, in \u001b[0;36mWorker._get\u001b[0;34m(self, ref, timeout)\u001b[0m\n\u001b[1;32m    460\u001b[0m         logger\u001b[38;5;241m.\u001b[39mexception(\u001b[38;5;124m\"\u001b[39m\u001b[38;5;124mFailed to deserialize \u001b[39m\u001b[38;5;132;01m{}\u001b[39;00m\u001b[38;5;124m\"\u001b[39m\u001b[38;5;241m.\u001b[39mformat(chunk\u001b[38;5;241m.\u001b[39merror))\n\u001b[1;32m    461\u001b[0m         \u001b[38;5;28;01mraise\u001b[39;00m\n\u001b[0;32m--> 462\u001b[0m     \u001b[38;5;28;01mraise\u001b[39;00m err\n\u001b[1;32m    463\u001b[0m \u001b[38;5;28;01mif\u001b[39;00m chunk\u001b[38;5;241m.\u001b[39mtotal_size \u001b[38;5;241m>\u001b[39m OBJECT_TRANSFER_WARNING_SIZE \u001b[38;5;129;01mand\u001b[39;00m log_once(\n\u001b[1;32m    464\u001b[0m     \u001b[38;5;124m\"\u001b[39m\u001b[38;5;124mclient_object_transfer_size_warning\u001b[39m\u001b[38;5;124m\"\u001b[39m\n\u001b[1;32m    465\u001b[0m ):\n\u001b[1;32m    466\u001b[0m     size_gb \u001b[38;5;241m=\u001b[39m chunk\u001b[38;5;241m.\u001b[39mtotal_size \u001b[38;5;241m/\u001b[39m \u001b[38;5;241m2\u001b[39m\u001b[38;5;241m*\u001b[39m\u001b[38;5;241m*\u001b[39m\u001b[38;5;241m30\u001b[39m\n",
      "\u001b[0;31mRayTaskError(TypeError)\u001b[0m: \u001b[36mray::do_reduce_task()\u001b[39m (pid=1177, ip=172.31.12.93)\n  File \"/tmp/ipykernel_1465/1033647018.py\", line 32, in do_reduce_task\n  File \"/tmp/ipykernel_1465/3088041794.py\", line 18, in reduce_function\nTypeError: 'int' object is not iterable"
     ]
    }
   ],
   "source": [
    "'''\n",
    "Collect and aggregate reduce tasks' output results at the client.\n",
    "'''\n",
    "wc = dict()\n",
    "wc_sorted = []\n",
    "for res in ray.get(merged_partial_results):\n",
    "    for key, val in res.items():\n",
    "        if key not in wc:\n",
    "            wc[key] = val\n",
    "        else:\n",
    "            wc[key] += val\n",
    "\n",
    "# Sort all word counts\n",
    "wc_sorted = sorted(wc.items(), key=lambda item: item[1], reverse=True)\n",
    "\n",
    "# Print the top 20 words (for debugging purpose)\n",
    "for word, count in wc_sorted[:20]:\n",
    "    print(f\"{word}, {count}\")\n",
    "\n",
    "# Save wc_sorted to a file\n",
    "with open('mr_wc.output', 'w') as file:\n",
    "    for word, count in wc_sorted:\n",
    "        file.write(f\"{word} {count}\\n\")"
   ]
  },
  {
   "cell_type": "code",
   "execution_count": null,
   "id": "143e4953-dd29-4920-a7d5-b3fa84e7f38a",
   "metadata": {},
   "outputs": [],
   "source": [
    "'''\n",
    "Run the wc test script (it returns either a PASS or a FAIL).\n",
    "'''\n",
    "!bash ./test_mr.sh"
   ]
  },
  {
   "cell_type": "code",
   "execution_count": null,
   "id": "62bb2ba5-668c-4de9-80f9-8375f7d946ff",
   "metadata": {},
   "outputs": [],
   "source": [
    "# Disconnect the ray cluster by ray.shutdown()\n",
    "ray.shutdown()"
   ]
  }
 ],
 "metadata": {
  "kernelspec": {
   "display_name": "Python 3 (ipykernel)",
   "language": "python",
   "name": "python3"
  },
  "language_info": {
   "codemirror_mode": {
    "name": "ipython",
    "version": 3
   },
   "file_extension": ".py",
   "mimetype": "text/x-python",
   "name": "python",
   "nbconvert_exporter": "python",
   "pygments_lexer": "ipython3",
   "version": "3.10.12"
  }
 },
 "nbformat": 4,
 "nbformat_minor": 5
}
