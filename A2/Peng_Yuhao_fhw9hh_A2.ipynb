{
 "cells": [
  {
   "cell_type": "markdown",
   "id": "93328f8b-7e10-4633-a2b8-2a7cefe04aa5",
   "metadata": {},
   "source": [
    "### Part2"
   ]
  },
  {
   "cell_type": "code",
   "execution_count": 1,
   "id": "c1f3ce42-bbcd-480d-ac12-53809725f931",
   "metadata": {},
   "outputs": [
    {
     "name": "stdout",
     "output_type": "stream",
     "text": [
      "Defaulting to user installation because normal site-packages is not writeable\n",
      "Requirement already satisfied: pyspark in ./.local/lib/python3.10/site-packages (3.5.1)\n",
      "Requirement already satisfied: py4j==0.10.9.7 in ./.local/lib/python3.10/site-packages (from pyspark) (0.10.9.7)\n",
      "Defaulting to user installation because normal site-packages is not writeable\n",
      "Requirement already satisfied: findspark in ./.local/lib/python3.10/site-packages (2.0.1)\n"
     ]
    }
   ],
   "source": [
    "!pip3 install pyspark\n",
    "!pip3 install findspark"
   ]
  },
  {
   "cell_type": "code",
   "execution_count": 1,
   "id": "36a8c7b6-b06d-493d-b24d-3cf0466192e8",
   "metadata": {},
   "outputs": [
    {
     "data": {
      "text/plain": [
       "'/home/ubuntu/spark-3.3.1-bin-hadoop3'"
      ]
     },
     "execution_count": 1,
     "metadata": {},
     "output_type": "execute_result"
    }
   ],
   "source": [
    "import findspark\n",
    "findspark.init('/home/ubuntu/spark-3.3.1-bin-hadoop3')\n",
    "findspark.find()"
   ]
  },
  {
   "cell_type": "code",
   "execution_count": 3,
   "id": "7c0565dc-e938-4ff3-936c-260918f3ac14",
   "metadata": {},
   "outputs": [
    {
     "name": "stderr",
     "output_type": "stream",
     "text": [
      "Setting default log level to \"WARN\".\n",
      "To adjust logging level use sc.setLogLevel(newLevel). For SparkR, use setLogLevel(newLevel).\n"
     ]
    },
    {
     "name": "stdout",
     "output_type": "stream",
     "text": [
      "24/02/28 03:03:39 WARN NativeCodeLoader: Unable to load native-hadoop library for your platform... using builtin-java classes where applicable\n"
     ]
    }
   ],
   "source": [
    "from pyspark.sql import SparkSession\n",
    "\n",
    "# The entry point into all functionality in Spark is the SparkSession class.\n",
    "spark = (SparkSession\n",
    "\t.builder\n",
    "\t.appName(\"DS5110/CS5501: my awesome Spark program\")\n",
    "\t.master(\"spark://172.31.2.53:7077\")\n",
    "\t.config(\"spark.executor.memory\", \"1024M\")\n",
    "\t.getOrCreate())\n",
    "\n",
    "# You can read the data from a file into DataFrames\n",
    "#df = spark.read.csv(\"hdfs://172.31.2.53:9000/export.csv\")"
   ]
  },
  {
   "cell_type": "code",
   "execution_count": 4,
   "id": "9de07e7b-fedd-460a-9891-1cc5ddc6484d",
   "metadata": {},
   "outputs": [
    {
     "name": "stderr",
     "output_type": "stream",
     "text": [
      "[Stage 2:>                                                          (0 + 1) / 1]\r"
     ]
    },
    {
     "name": "stdout",
     "output_type": "stream",
     "text": [
      "+-------------+---------+----+----+-------------+---------+--------------------+--------+---------------+--------+------+---------+-------+----+-------------+\n",
      "|battery_level|c02_level|cca2|cca3|           cn|device_id|         device_name|humidity|             ip|latitude|   lcd|longitude|  scale|temp|    timestamp|\n",
      "+-------------+---------+----+----+-------------+---------+--------------------+--------+---------------+--------+------+---------+-------+----+-------------+\n",
      "|            8|      868|  US| USA|United States|        1|meter-gauge-1xbYRYcj|      51|   68.161.225.1|    38.0| green|    -97.0|Celsius|  34|1458444054093|\n",
      "|            7|     1473|  NO| NOR|       Norway|        2|   sensor-pad-2n2Pea|      70|  213.161.254.1|   62.47|   red|     6.15|Celsius|  11|1458444054119|\n",
      "|            2|     1556|  IT| ITA|        Italy|        3| device-mac-36TWSKiT|      44|      88.36.5.1|   42.83|   red|    12.83|Celsius|  19|1458444054120|\n",
      "|            6|     1080|  US| USA|United States|        4|   sensor-pad-4mzWkz|      32|  66.39.173.154|   44.06|yellow|  -121.32|Celsius|  28|1458444054121|\n",
      "|            4|      931|  PH| PHL|  Philippines|        5|therm-stick-5gimp...|      62|    203.82.41.9|   14.58| green|   120.97|Celsius|  25|1458444054122|\n",
      "|            3|     1210|  US| USA|United States|        6|sensor-pad-6al7RT...|      51| 204.116.105.67|   35.93|yellow|   -85.46|Celsius|  27|1458444054122|\n",
      "|            3|     1129|  CN| CHN|        China|        7|meter-gauge-7GeDoanM|      26|  220.173.179.1|   22.82|yellow|   108.32|Celsius|  18|1458444054123|\n",
      "|            0|     1536|  JP| JPN|        Japan|        8|sensor-pad-8xUD6p...|      35|  210.173.177.1|   35.69|   red|   139.69|Celsius|  27|1458444054123|\n",
      "|            3|      807|  JP| JPN|        Japan|        9| device-mac-9GcjZ2pw|      85|  118.23.68.227|   35.69| green|   139.69|Celsius|  13|1458444054124|\n",
      "|            7|     1470|  US| USA|United States|       10|sensor-pad-10Bsyw...|      56|208.109.163.218|   33.61|   red|  -111.89|Celsius|  26|1458444054125|\n",
      "+-------------+---------+----+----+-------------+---------+--------------------+--------+---------------+--------+------+---------+-------+----+-------------+\n",
      "only showing top 10 rows\n",
      "\n",
      "None\n"
     ]
    },
    {
     "name": "stderr",
     "output_type": "stream",
     "text": [
      "                                                                                \r"
     ]
    }
   ],
   "source": [
    "df = (spark.read\n",
    "         .format(\"csv\")\n",
    "         .option(\"inferSchema\", True)\n",
    "         .option(\"header\", True)\n",
    "         .load(\"hdfs://172.31.2.53:9000/export.csv\"))\n",
    "print(df.show(10))"
   ]
  },
  {
   "cell_type": "code",
   "execution_count": 5,
   "id": "e175d550-154e-470b-ac9e-e417bf56b475",
   "metadata": {},
   "outputs": [],
   "source": [
    "sorted_df = df.orderBy(['cca2', 'timestamp'], ascending=[True, True])"
   ]
  },
  {
   "cell_type": "code",
   "execution_count": 6,
   "id": "ab3cba2f-057f-4722-b0bc-d8b1cacd6c70",
   "metadata": {},
   "outputs": [
    {
     "name": "stderr",
     "output_type": "stream",
     "text": [
      "[Stage 3:>                                                          (0 + 1) / 1]\r"
     ]
    },
    {
     "name": "stdout",
     "output_type": "stream",
     "text": [
      "+-------------+---------+----+----+--------------------+---------+--------------------+--------+---------------+--------+------+---------+-------+----+-------------+\n",
      "|battery_level|c02_level|cca2|cca3|                  cn|device_id|         device_name|humidity|             ip|latitude|   lcd|longitude|  scale|temp|    timestamp|\n",
      "+-------------+---------+----+----+--------------------+---------+--------------------+--------+---------------+--------+------+---------+-------+----+-------------+\n",
      "|            5|     1217|  AE| ARE|United Arab Emirates|      501|device-mac-501e4O...|      48|  213.42.16.154|    24.0|yellow|     54.0|Celsius|  16|1458444054343|\n",
      "|            0|      915|  AR| ARG|           Argentina|      227|meter-gauge-2273p...|      34|  200.71.230.81|   -34.6| green|   -58.38|Celsius|  15|1458444054251|\n",
      "|            1|     1189|  AR| ARG|           Argentina|      319|meter-gauge-319Y3...|      54| 200.71.236.145|   -34.6|yellow|   -58.38|Celsius|  25|1458444054287|\n",
      "|            8|     1386|  AR| ARG|           Argentina|      763|meter-gauge-763JW...|      82|    200.55.0.70|   -34.6|yellow|   -58.38|Celsius|  21|1458444054404|\n",
      "|            0|      861|  AR| ARG|           Argentina|      943|meter-gauge-943BT...|      77|  200.59.128.19|   -34.6| green|   -58.38|Celsius|  33|1458444054435|\n",
      "|            5|      939|  AT| AUT|             Austria|       21|  device-mac-21sjz5h|      44|193.200.142.254|    48.2| green|    16.37|Celsius|  30|1458444054131|\n",
      "|            6|     1328|  AT| AUT|             Austria|       75|device-mac-75OLmC...|      96| 143.161.246.65|    48.2|yellow|    16.37|Celsius|  12|1458444054168|\n",
      "|            8|     1287|  AT| AUT|             Austria|      236|sensor-pad-2369xz...|      47|  217.25.119.17|    48.2|yellow|    16.37|Celsius|  22|1458444054256|\n",
      "|            2|     1522|  AT| AUT|             Austria|      257|meter-gauge-257AT...|      26|   87.243.133.1|    47.2|   red|    14.83|Celsius|  16|1458444054266|\n",
      "|            1|      811|  AT| AUT|             Austria|      271|meter-gauge-271BjIL0|      31|  149.148.140.1|    48.2| green|    16.37|Celsius|  16|1458444054271|\n",
      "+-------------+---------+----+----+--------------------+---------+--------------------+--------+---------------+--------+------+---------+-------+----+-------------+\n",
      "only showing top 10 rows\n",
      "\n",
      "None\n"
     ]
    },
    {
     "name": "stderr",
     "output_type": "stream",
     "text": [
      "                                                                                \r"
     ]
    }
   ],
   "source": [
    "print(sorted_df.show(10))"
   ]
  },
  {
   "cell_type": "code",
   "execution_count": 7,
   "id": "2f34a1ad-284c-44fa-ad73-538d311f9c85",
   "metadata": {},
   "outputs": [
    {
     "name": "stderr",
     "output_type": "stream",
     "text": [
      "                                                                                \r"
     ]
    }
   ],
   "source": [
    "sorted_df.write.mode(\"overwrite\").csv(\"hdfs://172.31.2.53:9000/sorted_export.csv\", header=True)"
   ]
  },
  {
   "cell_type": "code",
   "execution_count": 12,
   "id": "ef5d82d3-60c3-4e0b-84fb-047ba3b2a474",
   "metadata": {},
   "outputs": [],
   "source": [
    "spark.stop()"
   ]
  },
  {
   "cell_type": "markdown",
   "id": "df73e5ef-253e-47ee-bff3-eda3c6b192d8",
   "metadata": {},
   "source": [
    "### Part3"
   ]
  },
  {
   "cell_type": "code",
   "execution_count": 2,
   "id": "9968dc49-30f2-4128-a4f0-9dd0c773e1ec",
   "metadata": {},
   "outputs": [],
   "source": [
    "\"\"\"\n",
    "This is a skeleton of the PageRank algorithm.\n",
    "Feel free to use any piece of code in this provided skeleton source file.\n",
    "To use it, you will need to copy it into your Notebook. \n",
    "Feel free to make modifications to template code as you see fit.\n",
    "However, you are encouraged to implement the algorithm completely on\n",
    "your own. :-)\n",
    "\"\"\"\n",
    "import re\n",
    "import sys\n",
    "from operator import add\n",
    "from typing import Iterable, Tuple\n",
    "\n",
    "from pyspark.resultiterable import ResultIterable\n",
    "from pyspark.sql import SparkSession"
   ]
  },
  {
   "cell_type": "code",
   "execution_count": 3,
   "id": "cf68b517-9092-456b-9a0f-379cfe7c6158",
   "metadata": {},
   "outputs": [],
   "source": [
    "from pyspark.sql import SparkSession"
   ]
  },
  {
   "cell_type": "code",
   "execution_count": 4,
   "id": "55d5b3a7-bad5-4a18-ad65-7187fbd3a9d0",
   "metadata": {},
   "outputs": [],
   "source": [
    "\"\"\"Helper function to calculates URL contributions to the rank of other URLs\"\"\"\n",
    "def calculateRankContrib(urls: ResultIterable[str], rank: float) -> Iterable[Tuple[str, float]]:\n",
    "    num_urls = len(urls)\n",
    "    for url in urls:\n",
    "        yield (url, rank / num_urls)\n",
    "\n",
    "\n",
    "\"\"\"Helper function to parses a urls string into urls pair\"\"\"\n",
    "def parseNeighborURLs(urls: str) -> Tuple[str, str]:\n",
    "    parts = re.split(r'\\s+', urls)\n",
    "    return parts[0], parts[1]"
   ]
  },
  {
   "cell_type": "code",
   "execution_count": 5,
   "id": "c33121d6-068b-490a-b949-de37c547936c",
   "metadata": {},
   "outputs": [
    {
     "name": "stderr",
     "output_type": "stream",
     "text": [
      "Setting default log level to \"WARN\".\n",
      "To adjust logging level use sc.setLogLevel(newLevel). For SparkR, use setLogLevel(newLevel).\n"
     ]
    },
    {
     "name": "stdout",
     "output_type": "stream",
     "text": [
      "24/02/28 04:32:45 WARN NativeCodeLoader: Unable to load native-hadoop library for your platform... using builtin-java classes where applicable\n"
     ]
    }
   ],
   "source": [
    "# Initialize the Spark context\n",
    "# TODO: You should define a new name for your PySpark PageRank program\n",
    "spark = (SparkSession.builder.appName(\"A2:PageRank\")\n",
    "    .master(\"spark://172.31.2.53:7077\")\n",
    "    .config(\"spark.executor.memory\", \"2048M\")\n",
    "    .getOrCreate())"
   ]
  },
  {
   "cell_type": "code",
   "execution_count": 6,
   "id": "95cc3517-b40d-4d95-97b8-c12f8e6809ae",
   "metadata": {},
   "outputs": [],
   "source": [
    "\"\"\"Hint: You want to use hash partitioning to optimize the performance of join\"\"\"\n",
    "\n",
    "# Loads in input file\n",
    "#     URL         neighbor URL\n",
    "#     URL         neighbor URL\n",
    "#     URL         neighbor URL\n",
    "#     ...\n",
    "linesRDD = spark.sparkContext.textFile(\"hdfs://172.31.2.53:9000/web-BerkStan.txt\")\n",
    "\n",
    "# Perform a transformation to define a links RDD by using parseNeighborURLs helper function\n",
    "linksRDD = linesRDD.map(lambda urls: parseNeighborURLs(urls)).distinct().groupByKey()\n",
    "\n",
    "# Initialize a ranks RDD\n",
    "ranksRDD = linksRDD.map(lambda url_neighbors: (url_neighbors[0], 1.0))"
   ]
  },
  {
   "cell_type": "code",
   "execution_count": 7,
   "id": "f782bf45-cef7-45a4-ac0f-7bee3569c667",
   "metadata": {},
   "outputs": [],
   "source": [
    "# Calculates and updates URL ranks continuously using PageRank algorithm.\n",
    "    # Replace N with a number ranging from 3 to 10\n",
    "    # For A2 you are required to complete 10 iterations\\n\",\n",
    "for iteration in range(10):\n",
    "    contributeRDD = linksRDD.join(ranksRDD).flatMap(\n",
    "        lambda url_urls_rank: calculateRankContrib(url_urls_rank[1][0], url_urls_rank[1][1]) \n",
    "    )\n",
    "    ranksRDD = contributeRDD.reduceByKey(lambda x, y: x + y).mapValues(lambda rank: 0.15 + 0.85 * rank)"
   ]
  },
  {
   "cell_type": "markdown",
   "id": "111937fb-bdc5-4425-b9e5-ae79f0c195d1",
   "metadata": {},
   "source": [
    "### Task1"
   ]
  },
  {
   "cell_type": "code",
   "execution_count": 8,
   "id": "3ddc4763-247c-4f50-8026-ef79d65327d6",
   "metadata": {},
   "outputs": [
    {
     "name": "stderr",
     "output_type": "stream",
     "text": [
      "[Stage 93:>                                                         (0 + 1) / 1]\r"
     ]
    },
    {
     "name": "stdout",
     "output_type": "stream",
     "text": [
      "+------+------------------+\n",
      "|   url|              rank|\n",
      "+------+------------------+\n",
      "|272919|6531.3246237524545|\n",
      "|438238| 4335.323158564439|\n",
      "|571448|2383.8976074118877|\n",
      "|601656|2195.3940755967287|\n",
      "|316792|1855.6908757901508|\n",
      "|319209|1632.8193684975686|\n",
      "|184094|1532.2842374483398|\n",
      "|571447|1492.9301630938783|\n",
      "|401873|1436.1600933469292|\n",
      "| 66244|1261.5783958673344|\n",
      "| 68949|1260.7919421349136|\n",
      "|284306|1257.2475650644851|\n",
      "| 68948|1251.1723536459228|\n",
      "| 77284|1235.2985405976258|\n",
      "| 68946|1235.2985405976258|\n",
      "| 95552|1235.2985405976256|\n",
      "| 96070|1235.2985405976256|\n",
      "| 86238|1235.2985405976256|\n",
      "| 86239|1235.2985405976256|\n",
      "| 86237|1235.2985405976256|\n",
      "| 95551|1235.2985405976256|\n",
      "| 68947|1235.2985405976256|\n",
      "| 66909|1235.2985405976256|\n",
      "|   768|1225.5975665113078|\n",
      "|   927|1117.8383051141839|\n",
      "|210376| 920.6701252803681|\n",
      "| 95527|   919.67971465211|\n",
      "|100130| 916.0190658202696|\n",
      "|101163| 912.5380530105955|\n",
      "| 95018| 911.1831080077997|\n",
      "|100646| 909.7095673033023|\n",
      "| 96045| 904.3981315809757|\n",
      "| 66879|  895.790974604477|\n",
      "|210305| 893.0386730972408|\n",
      "|319412| 887.9352083382672|\n",
      "|571451| 875.7852546255612|\n",
      "|570985| 871.5825582573226|\n",
      "|544858| 869.6096568148241|\n",
      "|184142| 863.2307781841789|\n",
      "|299039|  832.314980980729|\n",
      "| 49176| 819.8687801616516|\n",
      "|299040| 784.9195782082284|\n",
      "|319210| 764.4429282969842|\n",
      "|184332| 748.1100966771174|\n",
      "|184279| 743.4092370378004|\n",
      "|   743| 694.5573570089949|\n",
      "|313077| 681.9298001499117|\n",
      "|331840| 665.4905257656994|\n",
      "|    33| 660.9927237591636|\n",
      "|184150| 649.4401909507085|\n",
      "+------+------------------+\n",
      "only showing top 50 rows\n",
      "\n"
     ]
    },
    {
     "name": "stderr",
     "output_type": "stream",
     "text": [
      "                                                                                \r"
     ]
    }
   ],
   "source": [
    "highestRanks = ranksRDD.sortBy(lambda x: x[1], ascending=False)\n",
    "highest50 = highestRanks.toDF([\"url\",\"rank\"])\n",
    "highest50.show(50)"
   ]
  },
  {
   "cell_type": "code",
   "execution_count": 10,
   "id": "4cb3da60-c91d-4afb-8b12-bc652759dbec",
   "metadata": {},
   "outputs": [
    {
     "name": "stderr",
     "output_type": "stream",
     "text": [
      "                                                                                \r"
     ]
    }
   ],
   "source": [
    "# Save output to HDFS\n",
    "ranksDf = ranksRDD.toDF()\n",
    "# Note: You should not overwrite the input file. Otherwise you need to reload it\n",
    "ranksDf.write.format(\"csv\").save(\"hdfs://172.31.2.53:9000/web-BerkStan_output_1.csv\")"
   ]
  },
  {
   "cell_type": "markdown",
   "id": "ea2fad3e-af3e-4953-9672-11f2754e1002",
   "metadata": {},
   "source": [
    "### Task2"
   ]
  },
  {
   "cell_type": "code",
   "execution_count": 14,
   "id": "2305eaee-9c0e-40b5-be7e-12ca8ae58d54",
   "metadata": {},
   "outputs": [],
   "source": [
    "from pyspark import StorageLevel\n",
    "linksRDD_part = linksRDD.partitionBy(8)\n",
    "ranksRDD_part = linksRDD_part.map(lambda url_neighbors: (url_neighbors[0], 1.0)).partitionBy(8).persist()"
   ]
  },
  {
   "cell_type": "code",
   "execution_count": 15,
   "id": "27b0b9be-dfc0-4f6e-bdc8-14c80b50a7e5",
   "metadata": {},
   "outputs": [],
   "source": [
    "for iteration in range(10):\n",
    "    contributeRDD_part = linksRDD_part.join(ranksRDD_part).flatMap(\n",
    "        lambda url_urls_rank: calculateRankContrib(url_urls_rank[1][0], url_urls_rank[1][1])\n",
    "    )\n",
    "    if iteration % 3 == 0:\n",
    "        ranksRDD_part = contributeRDD_part.reduceByKey(lambda x, y: x + y).mapValues(lambda rank: 0.15 + 0.85 * rank).persist()\n",
    "    else:\n",
    "        ranksRDD_part = contributeRDD_part.reduceByKey(lambda x, y: x + y).mapValues(lambda rank: 0.15 + 0.85 * rank)"
   ]
  },
  {
   "cell_type": "code",
   "execution_count": 16,
   "id": "c7d9c1a5-c334-47b9-8d08-d196b09741a1",
   "metadata": {},
   "outputs": [
    {
     "name": "stderr",
     "output_type": "stream",
     "text": [
      "                                                                                \r"
     ]
    },
    {
     "name": "stdout",
     "output_type": "stream",
     "text": [
      "+------+------------------+\n",
      "|   url|              rank|\n",
      "+------+------------------+\n",
      "|272919| 6531.324623752437|\n",
      "|438238| 4335.323158564453|\n",
      "|571448| 2383.897607411885|\n",
      "|601656|2195.3940755967305|\n",
      "|316792| 1855.690875790141|\n",
      "|319209|1632.8193684975693|\n",
      "|184094| 1532.284237448335|\n",
      "|571447|1492.9301630938762|\n",
      "|401873| 1436.160093346927|\n",
      "| 66244|1261.5783958673348|\n",
      "| 68949|1260.7919421349154|\n",
      "|284306| 1257.247565064484|\n",
      "| 68948|1251.1723536459235|\n",
      "| 77284|1235.2985405976272|\n",
      "| 95551|1235.2985405976272|\n",
      "| 68946| 1235.298540597627|\n",
      "| 86237| 1235.298540597627|\n",
      "| 95552| 1235.298540597627|\n",
      "| 86239| 1235.298540597627|\n",
      "| 68947|1235.2985405976265|\n",
      "| 96070| 1235.298540597626|\n",
      "| 66909| 1235.298540597626|\n",
      "| 86238|1235.2985405976256|\n",
      "|   768|1225.5975665113028|\n",
      "|   927|1117.8383051141818|\n",
      "|210376| 920.6701252803678|\n",
      "| 95527| 919.6797146521109|\n",
      "|100130| 916.0190658202705|\n",
      "|101163| 912.5380530105966|\n",
      "| 95018| 911.1831080078007|\n",
      "|100646| 909.7095673033034|\n",
      "| 96045| 904.3981315809767|\n",
      "| 66879|  895.790974604478|\n",
      "|210305| 893.0386730972406|\n",
      "|319412| 887.9352083382674|\n",
      "|571451| 875.7852546255596|\n",
      "|570985| 871.5825582573195|\n",
      "|544858| 869.6096568148237|\n",
      "|184142| 863.2307781841782|\n",
      "|299039| 832.3149809807289|\n",
      "| 49176| 819.8687801616497|\n",
      "|299040| 784.9195782082278|\n",
      "|319210| 764.4429282969845|\n",
      "|184332| 748.1100966771173|\n",
      "|184279| 743.4092370378002|\n",
      "|   743|  694.557357008995|\n",
      "|313077| 681.9298001499116|\n",
      "|331840| 665.4905257656994|\n",
      "|    33| 660.9927237591639|\n",
      "|184150| 649.4401909507035|\n",
      "+------+------------------+\n",
      "only showing top 50 rows\n",
      "\n"
     ]
    }
   ],
   "source": [
    "top50_part = ranksRDD_part.sortBy(lambda x: x[1], ascending=False)\n",
    "topDF = top50_part.toDF([\"url\",\"rank\"])\n",
    "topDF.show(50)"
   ]
  },
  {
   "cell_type": "markdown",
   "id": "3672017b-5f38-4c21-a5e6-7401b9a02282",
   "metadata": {},
   "source": [
    "### Task3 - kill a worker and then run task 2 again"
   ]
  },
  {
   "cell_type": "code",
   "execution_count": null,
   "id": "3ed922df-a0ec-4691-a479-f357c7de5d2d",
   "metadata": {},
   "outputs": [],
   "source": []
  }
 ],
 "metadata": {
  "kernelspec": {
   "display_name": "Python 3 (ipykernel)",
   "language": "python",
   "name": "python3"
  },
  "language_info": {
   "codemirror_mode": {
    "name": "ipython",
    "version": 3
   },
   "file_extension": ".py",
   "mimetype": "text/x-python",
   "name": "python",
   "nbconvert_exporter": "python",
   "pygments_lexer": "ipython3",
   "version": "3.10.12"
  }
 },
 "nbformat": 4,
 "nbformat_minor": 5
}
